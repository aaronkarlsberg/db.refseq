{
 "cells": [
  {
   "cell_type": "markdown",
   "metadata": {},
   "source": [
    "# Blast two files and get edit distance. Parse and combine similar seqs into unique grouped files for same species"
   ]
  },
  {
   "cell_type": "code",
   "execution_count": 7,
   "metadata": {},
   "outputs": [],
   "source": [
    "import Bio\n",
    "from Bio import AlignIO\n",
    "from Bio.Align import AlignInfo\n",
    "from Bio.Alphabet import IUPAC, Gapped\n",
    "from Bio.Blast.Applications import NcbiblastnCommandline\n",
    "import numpy as np"
   ]
  },
  {
   "cell_type": "code",
   "execution_count": 8,
   "metadata": {},
   "outputs": [],
   "source": [
    "def adjusted_percent_identity(percent_identity, alignment_length, query_length, subject_length):\n",
    "    max_length = max(max_length_db1, max_length_db2)\n",
    "    adjusted_percent = (percent_identity*1.0 * alignment_length)/ max_length\n",
    "    return adjusted_percent\n",
    "\n",
    "# subject_length is what is stored in blastnDb query_length is the other sp fasta file."
   ]
  },
  {
   "cell_type": "code",
   "execution_count": 53,
   "metadata": {},
   "outputs": [],
   "source": [
    "# from Bio.Blast.Applications import NcbiblastnCommandline \n",
    "\n",
    "# blastn_cline = NcbiblastnCommandline(cmd = '/usr/local/ncbi/blast/bin/blastn', query=\"blast_fastas/blast2.fa\", db=\"blast_db/testdb\", out=\"blast_results/results.out\", outfmt=7)\n",
    "# stdout, stderr = blastn_cline()\n",
    "\n",
    "# run in command line and generate \n",
    "# makeblastdb -in blast_fastas/blast1.fa -dbtype nucl -parse_seqids -out blast_db/testdb\n",
    "\n",
    "# blastn -db blast_db/testdb -query blast_fastas/blast2.fa -out blast_results/results.out -outfmt \"7 qseqid sseqid pident qlen length mismatch\" \n",
    "\n",
    "\n",
    "\n"
   ]
  },
  {
   "cell_type": "code",
   "execution_count": null,
   "metadata": {},
   "outputs": [],
   "source": []
  },
  {
   "cell_type": "code",
   "execution_count": null,
   "metadata": {},
   "outputs": [],
   "source": [
    "import pandas as pd\n",
    "import seaborn as sns\n",
    "import sqlite3\n",
    "import csv\n",
    "\n",
    "cnx = sqlite3.connect(r'../data/refSeqFungiStats.db')\n",
    "speciesTaxids = pd.read_sql_query(\"SELECT DISTINCT SPECIESTAXID FROM speciesdb\", cnx)\n",
    "\n",
    "\n"
   ]
  },
  {
   "cell_type": "code",
   "execution_count": null,
   "metadata": {},
   "outputs": [],
   "source": [
    "import itertools\n",
    "\n",
    "def blast_combos(filepaths):\n",
    "    blast_combos = []\n",
    "    for path in itertools.combinations(filepaths, 2):\n",
    "        blast_combos.append([path[0], path[1]])\n",
    "    return blast_combos"
   ]
  },
  {
   "cell_type": "code",
   "execution_count": null,
   "metadata": {},
   "outputs": [],
   "source": []
  },
  {
   "cell_type": "code",
   "execution_count": null,
   "metadata": {},
   "outputs": [],
   "source": []
  },
  {
   "cell_type": "code",
   "execution_count": 55,
   "metadata": {},
   "outputs": [
    {
     "name": "stdout",
     "output_type": "stream",
     "text": [
      "[['A', 'B']]\n"
     ]
    }
   ],
   "source": [
    "import itertools\n",
    "# from itertools import combinations\n",
    "\n",
    "blast_combos = []\n",
    "for x in itertools.combinations([\"A\", \"B\"],2):\n",
    "    blast_combos.append([x[0], x[1]])\n",
    "print(blast_combos)"
   ]
  },
  {
   "cell_type": "code",
   "execution_count": null,
   "metadata": {},
   "outputs": [],
   "source": []
  }
 ],
 "metadata": {
  "kernelspec": {
   "display_name": "Python 3",
   "language": "python",
   "name": "python3"
  },
  "language_info": {
   "codemirror_mode": {
    "name": "ipython",
    "version": 3
   },
   "file_extension": ".py",
   "mimetype": "text/x-python",
   "name": "python",
   "nbconvert_exporter": "python",
   "pygments_lexer": "ipython3",
   "version": "3.6.8"
  }
 },
 "nbformat": 4,
 "nbformat_minor": 2
}
