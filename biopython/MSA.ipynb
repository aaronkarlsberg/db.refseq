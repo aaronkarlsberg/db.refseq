{
 "cells": [
  {
   "cell_type": "markdown",
   "metadata": {},
   "source": [
    "# Generate MSA in xmfa format for seqs of varying length using mauve"
   ]
  },
  {
   "cell_type": "code",
   "execution_count": 20,
   "metadata": {},
   "outputs": [
    {
     "name": "stdout",
     "output_type": "stream",
     "text": [
      "Alignment length 32\n",
      "<unknown description> ms2 1\n",
      "<unknown description> ms1 2\n",
      "<unknown description> ms3 3\n",
      "AAATGTTTTTTAGAGAGAGAGTTAGANNNN--\n"
     ]
    }
   ],
   "source": [
    "import Bio\n",
    "from Bio import AlignIO\n",
    "from Bio.Align import AlignInfo\n",
    "from Bio.Alphabet import IUPAC, Gapped\n",
    "\n",
    "\n",
    "# /Applications/Mauve.app/Contents/MacOS/progressiveMauve --output=test.xmfa ms2.fasta ms1.fasta ms3.fasta\n",
    "\n",
    "\n",
    "\n",
    "from Bio import AlignIO\n",
    "from Bio.Alphabet import IUPAC, Gapped\n",
    "from Bio.Align import MultipleSeqAlignment\n",
    "\n",
    "\n",
    "alignment = AlignIO.read(\"msa_fastas/nextmsa/test.xmfa\", \"mauve\")\n",
    "print(\"Alignment length %i\" % alignment.get_alignment_length())\n",
    "\n",
    "\n",
    "for record in alignment:\n",
    "    print(record.description, record.id[0:-11], record.name)\n",
    "    \n",
    "\n",
    "\n",
    "summary_align = AlignInfo.SummaryInfo(alignment)\n",
    "gconsensus = summary_align.gap_consensus(threshold = (2/3.0), ambiguous = \"N\", consensus_alpha =IUPAC.unambiguous_dna, require_multiple=0)\n",
    "\n",
    "\n",
    "\n",
    "print(gconsensus)\n"
   ]
  },
  {
   "cell_type": "code",
   "execution_count": 23,
   "metadata": {},
   "outputs": [
    {
     "name": "stdout",
     "output_type": "stream",
     "text": [
      "1 2 3\n"
     ]
    }
   ],
   "source": [
    "list1 = ['1', '2', '3']\n",
    "str1 = ' '.join(list1)\n",
    "\n",
    "print(str1)\n"
   ]
  },
  {
   "cell_type": "code",
   "execution_count": null,
   "metadata": {},
   "outputs": [],
   "source": []
  }
 ],
 "metadata": {
  "kernelspec": {
   "display_name": "Python 3",
   "language": "python",
   "name": "python3"
  },
  "language_info": {
   "codemirror_mode": {
    "name": "ipython",
    "version": 3
   },
   "file_extension": ".py",
   "mimetype": "text/x-python",
   "name": "python",
   "nbconvert_exporter": "python",
   "pygments_lexer": "ipython3",
   "version": "3.6.8"
  }
 },
 "nbformat": 4,
 "nbformat_minor": 2
}
