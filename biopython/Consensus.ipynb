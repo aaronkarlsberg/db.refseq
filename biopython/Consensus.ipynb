{
 "cells": [
  {
   "cell_type": "code",
   "execution_count": 105,
   "metadata": {},
   "outputs": [
    {
     "name": "stdout",
     "output_type": "stream",
     "text": [
      "Alignment length 1795349\n",
      "supercont3.6\n",
      "ID: supercont3.6\n",
      "Name: supercont3.6\n",
      "Description: supercont3.6 dna:supercontig supercontig:A_macrogynus_V3:supercont3.6:1:1795349:1 REF\n",
      "Number of features: 0\n",
      "Seq('CCGCGGCGGGCCGTGGCACACCGACCGCCCTGGCCGTCGTGGGCCGCTTCCGGA...GTT', SingleLetterAlphabet())\n",
      "supercont3.7\n",
      "ID: supercont3.7\n",
      "Name: supercont3.7\n",
      "Description: supercont3.7 dna:supercontig supercontig:A_macrogynus_V3:supercont3.6:1:1795349:1 REF\n",
      "Number of features: 0\n",
      "Seq('CCGCGGCGGGCCGTGGCACACCGACCGCCCTGGCCGTCGTGGGCCGCTTCCGGA...GTT', SingleLetterAlphabet())\n"
     ]
    }
   ],
   "source": [
    "import Bio\n",
    "from Bio import AlignIO\n",
    "from Bio.Align import AlignInfo\n",
    "\n",
    "# Blast comparison to group similar reads into one file. (multiple different alignments)\n",
    "\n",
    "\n",
    "# generate one file containing all alignments from each database\n",
    "\n",
    "alignment = AlignIO.read(open(\"consensus_fastas/dnatest.fa\"), 'fasta')\n",
    "print(\"Alignment length %i\" % alignment.get_alignment_length())\n",
    "for record in alignment :\n",
    "#     print(record.id)\n",
    "    print(record)\n",
    "    \n",
    "    \n",
    "\n",
    "# generate consensus from MSA\n",
    "summary_align = AlignInfo.SummaryInfo(alignment)\n",
    "consensus = summary_align.dumb_consensus()\n",
    "\n",
    "\n",
    "# write consensus to new file for specific species\n",
    "# Bio.AlignIO.write()\n"
   ]
  },
  {
   "cell_type": "code",
   "execution_count": 98,
   "metadata": {},
   "outputs": [
    {
     "name": "stdout",
     "output_type": "stream",
     "text": [
      "Alignment length 16\n",
      ">Alpha\n",
      "ACTGCTAGCTAGGG-G\n",
      ">Beta\n",
      "ACT-CTAGCTAGT--N\n",
      ">Gamma\n",
      "ACTGCTAGATAGA--N\n",
      "\n",
      "ACTGCTAGCTAGN--N\n"
     ]
    }
   ],
   "source": [
    "from Bio.Alphabet import IUPAC, Gapped\n",
    "from Bio.Align import MultipleSeqAlignment\n",
    "align = MultipleSeqAlignment([], Gapped(IUPAC.unambiguous_dna, \"-\"))\n",
    "align.add_sequence(\"Alpha\", \"ACTGCTAGCTAGGG-G\")\n",
    "align.add_sequence(\"Beta\",  \"ACT-CTAGCTAGT--N\")\n",
    "align.add_sequence(\"Gamma\", \"ACTGCTAGATAGA--N\")\n",
    "\n",
    "summary_align = AlignInfo.SummaryInfo(align)\n",
    "print(\"Alignment length %i\" % align.get_alignment_length())\n",
    "\n",
    "\n",
    "# dumb consensus\n",
    "# dconsensus = summary_align.dumb_consensus(threshold = (2/3.0), ambiguous = \"N\", consensus_alpha =\"IUPACAmbiguousDNA\", require_multiple=0)\n",
    "\n",
    "# choose gap concensus\n",
    "gconsensus = summary_align.gap_consensus(threshold = (2/3.0), ambiguous = \"N\", consensus_alpha =IUPAC.unambiguous_dna, require_multiple=0)\n",
    "\n",
    "print(align.format(\"fasta\"))\n",
    "# print(dconsensus)\n",
    "\n",
    "print(gconsensus)"
   ]
  },
  {
   "cell_type": "markdown",
   "metadata": {},
   "source": [
    "# Gap consensus from fasta file containing one alignment"
   ]
  },
  {
   "cell_type": "code",
   "execution_count": 3,
   "metadata": {},
   "outputs": [
    {
     "name": "stdout",
     "output_type": "stream",
     "text": [
      "Alignment length 16\n",
      "ACTGCTAGCTAGN--N\n"
     ]
    }
   ],
   "source": [
    "import Bio\n",
    "from Bio import AlignIO\n",
    "from Bio.Align import AlignInfo\n",
    "from Bio.Alphabet import IUPAC, Gapped\n",
    "\n",
    "\n",
    "alignment = AlignIO.read(open(\"consensus_fastas/123.fa\"), 'fasta')\n",
    "print(\"Alignment length %i\" % alignment.get_alignment_length())\n",
    "# for record in alignment :\n",
    "#     print(record.seq + \" \" + record.id)\n",
    "\n",
    "\n",
    "# generate consensus from MSA\n",
    "summary_align = AlignInfo.SummaryInfo(alignment)\n",
    "gconsensus = summary_align.gap_consensus(threshold = (2/3.0), ambiguous = \"N\", consensus_alpha =IUPAC.unambiguous_dna, require_multiple=0)\n",
    "\n",
    "\n",
    "\n",
    "print(gconsensus)\n",
    "# print(alignment.format(\"fasta\"))\n",
    "\n",
    "# align.add_sequence(\"Alpha\", \"ACTGCTAGCTAGGG-G\")\n",
    "# align.add_sequence(\"Beta\",  \"ACT-CTAGCTAGT--N\")\n",
    "# align.add_sequence(\"Gamma\", \"ACTGCTAGATAGA--N\")\n"
   ]
  },
  {
   "cell_type": "markdown",
   "metadata": {},
   "source": [
    "# use parse to align multiple contigs in one fasta. "
   ]
  },
  {
   "cell_type": "code",
   "execution_count": 36,
   "metadata": {},
   "outputs": [
    {
     "name": "stdout",
     "output_type": "stream",
     "text": [
      "SingleLetterAlphabet() alignment with 3 rows and 29 columns\n",
      "AAATGTTTTTTAGAGAGAGAGTTAGANNA /Users/aaronkarlsberg/Desktop/biopython/msa_fastas/msa1.fa/0-29\n",
      "AAATGTTTTTTAGAGAGAGAGTTAGAN-- /Users/aaronkarlsberg/Desktop/biopython/msa_fastas/msa1.fa/0-27\n",
      "AAATTTTTTTTAGAGAGAGAGTTAGANNT /Users/aaronkarlsberg/Desktop/biopython/msa_fastas/msa1.fa/0-29\n",
      "SingleLetterAlphabet() alignment with 1 rows and 3 columns\n",
      "AAA /Users/aaronkarlsberg/Desktop/biopython/msa_fastas/msa1.fa/29-32\n",
      "SingleLetterAlphabet() alignment with 1 rows and 1 columns\n",
      "N /Users/aaronkarlsberg/Desktop/biopython/msa_fastas/msa1.fa/27-28\n",
      "SingleLetterAlphabet() alignment with 1 rows and 1 columns\n",
      "T /Users/aaronkarlsberg/Desktop/biopython/msa_fastas/msa1.fa/29-30\n"
     ]
    }
   ],
   "source": [
    "from Bio import AlignIO\n",
    "from Bio.Alphabet import IUPAC, Gapped\n",
    "from Bio.Align import MultipleSeqAlignment\n",
    "\n",
    "\n",
    "# align = MultipleSeqAlignment([], Gapped(IUPAC.unambiguous_dna, \"-\"))\n",
    "# align.add_sequence(\"Alpha\", \"ACTGCTAGCTAGGG-G\")\n",
    "# align.add_sequence(\"Beta\",  \"ACT-CTAGCTAGT--N\")\n",
    "# align.add_sequence(\"Gamma\", \"ACTGCTAGATAGA--N\")\n",
    "\n",
    "# summary_align = AlignInfo.SummaryInfo(align)\n",
    "# print(\"Alignment length %i\" % align.get_alignment_length())\n",
    "\n",
    "\n",
    "align = AlignIO.parse(\"msa_fastas/aligned.xmfa\", \"mauve\")\n",
    "MSA = MultipleSeqAlignment([], Gapped(IUPAC.unambiguous_dna, \"-\"))\n",
    "alignments = list(align)\n",
    "x = 0\n",
    "for aln in alignments:\n",
    "    print(aln)\n",
    "#     MSA.add_sequence(x, aln)"
   ]
  },
  {
   "cell_type": "markdown",
   "metadata": {},
   "source": [
    "# Read xmfa mauve file into alignment. Use .read() for One sequence from each fasta. Generate Consensus seq. Generate Seq Record.  write to new file."
   ]
  },
  {
   "cell_type": "code",
   "execution_count": 118,
   "metadata": {},
   "outputs": [
    {
     "name": "stdout",
     "output_type": "stream",
     "text": [
      "Alignment length 32\n",
      "AAATGTTTTTTAGAGAGAGAGTTAGANNAAAA /Users/aaronkarlsberg/Desktop/biopython/msa_fastas/nextmsa/ms1 \n",
      "AAATGTTTTTTAGAGAGAGAGTTAGANN---- /Users/aaronkarlsberg/Desktop/biopython/msa_fastas/nextmsa/ms2 \n",
      "AAATTTTTTTTAGAGAGAGAGTTAGANNTT-- /Users/aaronkarlsberg/Desktop/biopython/msa_fastas/nextmsa/ms3 \n",
      "ID: supercont3.6\n",
      "Name: <unknown name>\n",
      "Description: description\n",
      "Number of features: 0\n",
      "Seq('AAATGTTTTTTAGAGAGAGAGTTAGANNNN--', IUPACUnambiguousDNA())\n"
     ]
    },
    {
     "data": {
      "text/plain": [
       "1"
      ]
     },
     "execution_count": 118,
     "metadata": {},
     "output_type": "execute_result"
    }
   ],
   "source": [
    "from Bio import AlignIO\n",
    "from Bio.Alphabet import IUPAC, Gapped\n",
    "from Bio.Align import MultipleSeqAlignment\n",
    "from Bio import SeqIO\n",
    "from Bio.SeqRecord import SeqRecord\n",
    "\n",
    "\n",
    "alignment = AlignIO.read(\"msa_fastas/nextmsa/aligned.xmfa\", \"mauve\")\n",
    "print(\"Alignment length %i\" % alignment.get_alignment_length())\n",
    "\n",
    "\n",
    "\n",
    "for record in alignment:\n",
    "    record.id[0:-11]\n",
    "    \n",
    "\n",
    "\n",
    "\n",
    "\n",
    "\n",
    "summary_align = AlignInfo.SummaryInfo(alignment)\n",
    "gap_consensus = summary_align.gap_consensus(threshold = (2/3.0), ambiguous = \"N\", consensus_alpha =IUPAC.unambiguous_dna, require_multiple=0)\n",
    "\n",
    "consensus_id = \"supercont3.6\"\n",
    "consensus_description = \"description\"\n",
    "\n",
    "\n",
    "gap_consensus_seq_record = SeqRecord(gap_consensus, id=consensus_id, description=consensus_description)\n",
    "\n",
    "\n",
    "# print(gap_consensus_seq_record.id)\n",
    "print(gap_consensus_seq_record)\n",
    "\n",
    "SeqIO.write([gap_consensus_seq_record], \"msa_fastas/nextmsa/gconsensus.fa\", \"fasta\")\n"
   ]
  },
  {
   "cell_type": "markdown",
   "metadata": {},
   "source": [
    "# append fasta files containing consensus contigs of same species together"
   ]
  },
  {
   "cell_type": "code",
   "execution_count": null,
   "metadata": {},
   "outputs": [],
   "source": [
    "awk 1 a.fasta b.fasta c.fasta >combined.fasta\n",
    "\n",
    "\n"
   ]
  },
  {
   "cell_type": "code",
   "execution_count": null,
   "metadata": {},
   "outputs": [],
   "source": []
  },
  {
   "cell_type": "code",
   "execution_count": null,
   "metadata": {},
   "outputs": [],
   "source": [
    "\n",
    "    \n"
   ]
  },
  {
   "cell_type": "code",
   "execution_count": null,
   "metadata": {},
   "outputs": [],
   "source": []
  },
  {
   "cell_type": "markdown",
   "metadata": {},
   "source": [
    "\n",
    "\n",
    "\n",
    "Bio.AlignIO.read() is for one alignment of several sequences\n",
    "Bio.AlignIO.write() is for writing an alignment\n",
    "Bio.seq.read() is for reading one sequence\n",
    "Bio.seq.read() is for writing one sequence\n",
    "\n"
   ]
  },
  {
   "cell_type": "code",
   "execution_count": null,
   "metadata": {},
   "outputs": [],
   "source": []
  },
  {
   "cell_type": "code",
   "execution_count": null,
   "metadata": {},
   "outputs": [],
   "source": []
  },
  {
   "cell_type": "code",
   "execution_count": null,
   "metadata": {},
   "outputs": [],
   "source": []
  }
 ],
 "metadata": {
  "kernelspec": {
   "display_name": "Python 3",
   "language": "python",
   "name": "python3"
  },
  "language_info": {
   "codemirror_mode": {
    "name": "ipython",
    "version": 3
   },
   "file_extension": ".py",
   "mimetype": "text/x-python",
   "name": "python",
   "nbconvert_exporter": "python",
   "pygments_lexer": "ipython3",
   "version": "3.6.8"
  }
 },
 "nbformat": 4,
 "nbformat_minor": 2
}
